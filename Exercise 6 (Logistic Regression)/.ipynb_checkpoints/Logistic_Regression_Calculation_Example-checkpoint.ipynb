{
 "cells": [
  {
   "cell_type": "markdown",
   "id": "fbe3ddb7",
   "metadata": {},
   "source": [
    "# Calculation example for Stochastic Gradient Descent and Linear Regression"
   ]
  },
  {
   "cell_type": "code",
   "execution_count": null,
   "id": "98230085",
   "metadata": {},
   "outputs": [],
   "source": [
    "# You can do the exercise on paper! Read through the exercise carefully. The calculations start at section 2.2."
   ]
  },
  {
   "cell_type": "markdown",
   "id": "7555486f",
   "metadata": {},
   "source": [
    "## 1) Prepare a dataset for the linear regression"
   ]
  },
  {
   "cell_type": "markdown",
   "id": "88beda42",
   "metadata": {},
   "source": [
    "### 1.1) Example dataset"
   ]
  },
  {
   "cell_type": "code",
   "execution_count": null,
   "id": "41d64ec0",
   "metadata": {},
   "outputs": [],
   "source": [
    "# Example dataset (x values)\n",
    "X = [\n",
    "    [0.1, 0.9],\n",
    "    [0.2, 0.91],\n",
    "    [0.7, 0.3],\n",
    "    [0.05, 0.81],\n",
    "    [0.95, 0.45],\n",
    "    [0.78, 0.22]\n",
    "]\n",
    "\n",
    "# Dependent variable on X (output of the model)\n",
    "# first row in X corresponds to first row in y and so forth\n",
    "y = [\n",
    "    1,\n",
    "    1,\n",
    "    0,\n",
    "    1,\n",
    "    0,\n",
    "    0\n",
    "]"
   ]
  },
  {
   "cell_type": "markdown",
   "id": "676f791e",
   "metadata": {},
   "source": [
    "### 1.2) Depending on the dataset we think that a logistic regression model fits best to our data"
   ]
  },
  {
   "cell_type": "code",
   "execution_count": null,
   "id": "41f1f80d",
   "metadata": {},
   "outputs": [],
   "source": [
    "# Formular for the first input step (linear regression)"
   ]
  },
  {
   "cell_type": "markdown",
   "id": "a04aac2c",
   "metadata": {},
   "source": [
    "$y_{hat}= w_1x_1 + w_2x_2 + b$"
   ]
  },
  {
   "cell_type": "code",
   "execution_count": null,
   "id": "a5e721b2",
   "metadata": {},
   "outputs": [],
   "source": [
    "# Sigmoid activation for 0 - 1 output scaling"
   ]
  },
  {
   "cell_type": "markdown",
   "id": "71a0565a",
   "metadata": {},
   "source": [
    "$S(x) = \\frac{1}{1+e^{-x}}$"
   ]
  },
  {
   "cell_type": "code",
   "execution_count": null,
   "id": "c00f61f9",
   "metadata": {},
   "outputs": [],
   "source": [
    "# combined it means that the output is as follows->"
   ]
  },
  {
   "cell_type": "markdown",
   "id": "d79f4164",
   "metadata": {},
   "source": [
    "$S(y_{hat}) = \\frac{1}{1+e^{-y_{hat}}} = \\frac{1}{1+e^{-(w_1x_1 + w_2x_2 + b)}}$"
   ]
  },
  {
   "cell_type": "markdown",
   "id": "72502027",
   "metadata": {},
   "source": [
    "### 1.3) We need a function to evaluate the model outcome - Loss function"
   ]
  },
  {
   "cell_type": "code",
   "execution_count": null,
   "id": "9ba3f9a1",
   "metadata": {},
   "outputs": [],
   "source": [
    "# For this example we define our loss function to be the 'Mean Squared Error' function.\n",
    "# Keep in mind that we are not bound to this method and that we can choose 'whatever' function we want to use.\n",
    "# The function should be a representative function to estimate the models performance (How good is my model?)"
   ]
  },
  {
   "cell_type": "markdown",
   "id": "793ae6bc",
   "metadata": {},
   "source": [
    "$L = Cross Entropy = -ylog(y_{hat})-(1-y)log(1-y_{hat})$"
   ]
  },
  {
   "cell_type": "markdown",
   "id": "e4912418",
   "metadata": {},
   "source": [
    "### 1.4) How can we minimize the loss of our model? - SGD"
   ]
  },
  {
   "cell_type": "code",
   "execution_count": null,
   "id": "c00c25dc",
   "metadata": {},
   "outputs": [],
   "source": [
    "# This is were Stochastic Gradient Descent comes into play!\n",
    "# We need to calculate the gradients of our model parameters (w_1, w_2, b) and update their values!\n",
    "\n",
    "# Calculation follows!"
   ]
  },
  {
   "cell_type": "markdown",
   "id": "1a75d5d9",
   "metadata": {},
   "source": [
    "## 2) How to use all the information from above?"
   ]
  },
  {
   "cell_type": "markdown",
   "id": "a307ed83",
   "metadata": {},
   "source": [
    "### 2.1) Initialize random values for"
   ]
  },
  {
   "cell_type": "markdown",
   "id": "48793153",
   "metadata": {},
   "source": [
    "$w_1, w_2, b$\n",
    "\n",
    "e. g.\n",
    "\n",
    "$w_1 = -0.5$, $w_2 = 0.02$, $b = 0$"
   ]
  },
  {
   "cell_type": "code",
   "execution_count": null,
   "id": "ae654589",
   "metadata": {},
   "outputs": [],
   "source": [
    "# The parameter value initialization is only done once (at the beginning)\n",
    "# We need these random values because we don't know anything about them at the beginning"
   ]
  },
  {
   "cell_type": "markdown",
   "id": "36d0dca5",
   "metadata": {},
   "source": [
    "### 2.2) Use the parameter values and one data row of the dataset and calculate the outputs"
   ]
  },
  {
   "cell_type": "code",
   "execution_count": null,
   "id": "d5e585d8",
   "metadata": {},
   "outputs": [],
   "source": [
    "# Use for example the first row of X as x_1 and x_2 values and\n",
    "# calculate the output with the initially set parameter values w_1, w_2, b"
   ]
  },
  {
   "cell_type": "code",
   "execution_count": null,
   "id": "c2deae2f",
   "metadata": {},
   "outputs": [],
   "source": [
    "# TODO !"
   ]
  },
  {
   "cell_type": "markdown",
   "id": "2c5b8957",
   "metadata": {},
   "source": [
    "### 2.4) Calculate the gradients of the learning parameters (w_1, w_2 and b)"
   ]
  },
  {
   "cell_type": "code",
   "execution_count": null,
   "id": "8a64487b",
   "metadata": {},
   "outputs": [],
   "source": [
    "# The gradients can be calculated using the partial derivatives with respect to the parameters"
   ]
  },
  {
   "cell_type": "code",
   "execution_count": null,
   "id": "58ded4b8",
   "metadata": {},
   "outputs": [],
   "source": [
    "# We start with the derivation of our loss function because this is our evaluation function.\n",
    "# The loss function gives us information about how good our model performs\n",
    "# We want to update our parameters based on our quality measurement function (loss function)"
   ]
  },
  {
   "cell_type": "code",
   "execution_count": null,
   "id": "e8353cb9",
   "metadata": {},
   "outputs": [],
   "source": [
    "# Partially derive the loss function (you can write the end result in code)"
   ]
  },
  {
   "cell_type": "markdown",
   "id": "0f468855",
   "metadata": {},
   "source": [
    "$$\\frac{\\partial L}{\\partial S(x)} = \\frac{S(x)-y}{S(x)(1-S(x))}$$"
   ]
  },
  {
   "cell_type": "code",
   "execution_count": null,
   "id": "b958b532",
   "metadata": {},
   "outputs": [],
   "source": [
    "# Partially derive the sigmoid activation function (you can write the end result in code)"
   ]
  },
  {
   "cell_type": "markdown",
   "id": "746efa36",
   "metadata": {},
   "source": [
    "$$\\frac{\\partial S(x)}{\\partial x} = S(x)(1-S(x))$$"
   ]
  },
  {
   "cell_type": "code",
   "execution_count": null,
   "id": "ebe97296",
   "metadata": {},
   "outputs": [],
   "source": [
    "# Parially derive the model function with respect to every parameter..."
   ]
  },
  {
   "cell_type": "markdown",
   "id": "27f8c16f",
   "metadata": {},
   "source": [
    "$y_{hat}= w_1x_1 + w_2x_2 + b$"
   ]
  },
  {
   "cell_type": "code",
   "execution_count": null,
   "id": "b653ef6a",
   "metadata": {},
   "outputs": [],
   "source": [
    "# for example for w_1... where x_1 from one data row the first entry (column)"
   ]
  },
  {
   "cell_type": "markdown",
   "id": "69e09f0b",
   "metadata": {},
   "source": [
    "$$\\frac{\\partial y_{hat}}{\\partial w_1} = x_1$$"
   ]
  },
  {
   "cell_type": "code",
   "execution_count": null,
   "id": "34b4c0cb",
   "metadata": {},
   "outputs": [],
   "source": [
    "# do this for w_1, w_2 and b with for example the first data row X[0]"
   ]
  },
  {
   "cell_type": "code",
   "execution_count": null,
   "id": "37e9a729",
   "metadata": {},
   "outputs": [],
   "source": [
    "# TODO !"
   ]
  },
  {
   "cell_type": "code",
   "execution_count": null,
   "id": "1a6b605e",
   "metadata": {},
   "outputs": [],
   "source": [
    "# we need to combine the loss function derivation and all the parameter derivations to calculate the final gradient\n",
    "# this can be done by the chain rule!\n",
    "# that is backtracing the output and the finding the impact for every single parameter\n",
    "# the chain rule is just combining the partial derivatives from the end of the model (loss fn) to the parameter we search for\n",
    "# the chain rule for the paramter w_1 is as follows:"
   ]
  },
  {
   "cell_type": "markdown",
   "id": "bb3b47f0",
   "metadata": {},
   "source": [
    "$$\\frac{\\partial L}{\\partial w_{1}} = \\frac{\\partial L}{\\partial S} * \\frac{\\partial S}{\\partial y_{hat}} * \\frac{\\partial y_{hat}}{\\partial w_1}$$\n",
    "\n",
    "$$\\frac{\\partial L}{\\partial w_{1}} = \\frac{S(y_{hat})-y}{S(y_{hat})(1-S(y_{hat}))} * S(y_{hat})(1-S(y_{hat}) * x_1$$\n",
    "\n",
    "\n",
    "$$\\frac{\\partial L}{\\partial w_{1}} = (S(y_{hat}) - y) * x_1$$"
   ]
  },
  {
   "cell_type": "code",
   "execution_count": null,
   "id": "789be6c1",
   "metadata": {},
   "outputs": [],
   "source": [
    "# calculate the gradient for all parameters w_1, w_2 and b"
   ]
  },
  {
   "cell_type": "code",
   "execution_count": null,
   "id": "2d1da733",
   "metadata": {},
   "outputs": [],
   "source": [
    "# TODO !"
   ]
  },
  {
   "cell_type": "markdown",
   "id": "77fde802",
   "metadata": {},
   "source": [
    "### 2.4) Apply the parameter update rule"
   ]
  },
  {
   "cell_type": "markdown",
   "id": "e729b51e",
   "metadata": {},
   "source": [
    "$$\\theta := \\theta - \\eta\\Delta_{\\theta}L(\\theta)$$"
   ]
  },
  {
   "cell_type": "code",
   "execution_count": null,
   "id": "022d5ce7",
   "metadata": {},
   "outputs": [],
   "source": [
    "# For w_1 this looks as follows"
   ]
  },
  {
   "cell_type": "markdown",
   "id": "90cb556a",
   "metadata": {},
   "source": [
    "$$w_1 := w_1 - \\eta \\space(\\frac{\\partial L}{\\partial S} * \\frac{\\partial S}{\\partial y_{hat}} * \\frac{\\partial y_{hat}}{\\partial w_1})$$"
   ]
  },
  {
   "cell_type": "code",
   "execution_count": null,
   "id": "957730da",
   "metadata": {},
   "outputs": [],
   "source": [
    "# Lets set the learning rate eta to 0.05"
   ]
  },
  {
   "cell_type": "markdown",
   "id": "249a95fc",
   "metadata": {},
   "source": [
    "$$\\eta = 0.05$$"
   ]
  },
  {
   "cell_type": "code",
   "execution_count": null,
   "id": "c558be31",
   "metadata": {},
   "outputs": [],
   "source": [
    "# calculate the new value for all parameters w_1, w_2, b"
   ]
  },
  {
   "cell_type": "code",
   "execution_count": null,
   "id": "468323f2",
   "metadata": {},
   "outputs": [],
   "source": [
    "# TODO !"
   ]
  },
  {
   "cell_type": "markdown",
   "id": "69e8c115",
   "metadata": {},
   "source": [
    "## 3) Iterate this procedure with every data row from X and y to update your model"
   ]
  },
  {
   "cell_type": "code",
   "execution_count": null,
   "id": "77a8a7a6",
   "metadata": {},
   "outputs": [],
   "source": [
    "# One iteration is using all data given once\n",
    "# Epochs can be defined to iterate over all data rows multiple times"
   ]
  }
 ],
 "metadata": {
  "kernelspec": {
   "display_name": "Python 3 (ipykernel)",
   "language": "python",
   "name": "python3"
  },
  "language_info": {
   "codemirror_mode": {
    "name": "ipython",
    "version": 3
   },
   "file_extension": ".py",
   "mimetype": "text/x-python",
   "name": "python",
   "nbconvert_exporter": "python",
   "pygments_lexer": "ipython3",
   "version": "3.11.7"
  }
 },
 "nbformat": 4,
 "nbformat_minor": 5
}
