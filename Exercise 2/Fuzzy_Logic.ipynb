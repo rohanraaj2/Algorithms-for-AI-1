{
  "cells": [
    {
      "cell_type": "markdown",
      "id": "24c4a7a6",
      "metadata": {
        "id": "24c4a7a6"
      },
      "source": [
        "# Fuzzy logic task"
      ]
    },
    {
      "cell_type": "markdown",
      "id": "79e404b2",
      "metadata": {
        "id": "79e404b2"
      },
      "source": [
        "Define a fuzzy controller for a distance to stop system for cars.\n",
        "\n",
        "Also define the functions for each input, e. g. $$f_{light}(x) = min(2x, 1)$$\n",
        "Write everything with Python code and visualize your results!\n",
        "You can alternatively visualize it on paper.\n",
        "Use center of gravity to calculate the final result.\n",
        "\n",
        "The following information is provided:"
      ]
    },
    {
      "cell_type": "markdown",
      "id": "864c5e25",
      "metadata": {
        "id": "864c5e25"
      },
      "source": [
        "## Inputs"
      ]
    },
    {
      "cell_type": "markdown",
      "id": "707d9299",
      "metadata": {
        "id": "707d9299"
      },
      "source": [
        "### 1. Speed of vehicle\n",
        "#### Set of terms\n",
        "- slow\n",
        "- medium\n",
        "- fast\n",
        "\n",
        "\n",
        "The terms are in range [0, 100]"
      ]
    },
    {
      "cell_type": "markdown",
      "id": "6d6df638",
      "metadata": {
        "id": "6d6df638"
      },
      "source": [
        "### 2. (Own) Car weight\n",
        "\n",
        "#### Set of terms\n",
        "- light\n",
        "- medium\n",
        "- heavy\n",
        "\n",
        "The terms are in range [0, 100]"
      ]
    },
    {
      "cell_type": "code",
      "source": [
        "# Input functions:\n",
        "\n",
        "# Calculating function of inputs:\n",
        "\n",
        "# Speed of Vehicle:\n",
        "\n",
        "y_high = 1\n",
        "y_low = 0\n",
        "\n",
        "decreasing_line = y_low - y_high\n",
        "increasing_line = y_high - y_low\n",
        "\n",
        "slow_max = 50\n",
        "slow_min = 0\n",
        "\n",
        "gradient_of_slow = decreasing_line / (slow_max - slow_min)\n",
        "\n",
        "speed = 30\n",
        "\n",
        "f_slow = max(0, min((50 - speed) / 50, 1))\n",
        "\n",
        "medium_speed_max = 75\n",
        "medium_speed_mid = 50\n",
        "medium_speed_min = 25\n",
        "\n",
        "gradient_of_medium_till_peak = increasing_line / (medium_speed_mid - medium_speed_min)\n",
        "gradient_of_medium_after_peak = decreasing_line / (medium_speed_max - medium_speed_mid)\n",
        "\n",
        "f_medium_speed = max(0, min(1 - abs((speed - 50) / 50), 1))\n",
        "\n",
        "fast_max = 100\n",
        "fast_min = 50\n",
        "\n",
        "gradient_of_fast = increasing_line / (fast_max - fast_min)\n",
        "\n",
        "f_fast = max(0, min((speed - 50) / 50, 1))\n",
        "\n",
        "print (f_slow, f_medium_speed, f_fast)\n",
        "\n",
        "# Car weight:\n",
        "\n",
        "light_max = 50\n",
        "light_min = 0\n",
        "\n",
        "gradient_of_light = decreasing_line / (light_max - light_min)\n",
        "\n",
        "car_weight = 60\n",
        "\n",
        "f_light = max(0, min((50 - car_weight) / 50, 1))\n",
        "\n",
        "medium_weight_max = 75\n",
        "medium_weight_mid = 50\n",
        "medium_weight_min = 25\n",
        "\n",
        "gradient_of_medium_till_peak = increasing_line / (medium_weight_mid - medium_weight_min)\n",
        "gradient_of_medium_after_peak = decreasing_line / (medium_weight_max - medium_weight_mid)\n",
        "\n",
        "f_medium_weight = max(0, min(1 - abs((car_weight - 50) / 50), 1))\n",
        "\n",
        "heavy_max = 100\n",
        "heavy_min = 50\n",
        "\n",
        "gradient_of_heavy = increasing_line / (heavy_max - heavy_min)\n",
        "\n",
        "f_heavy = max(0, min((car_weight - 50) / 50, 1))\n",
        "\n",
        "print (f_light, f_medium_weight, f_heavy)"
      ],
      "metadata": {
        "id": "4Qii--Ean3iM",
        "colab": {
          "base_uri": "https://localhost:8080/"
        },
        "outputId": "c350cabc-7a52-46bb-ee1b-c3a411d8e51b"
      },
      "id": "4Qii--Ean3iM",
      "execution_count": 38,
      "outputs": [
        {
          "output_type": "stream",
          "name": "stdout",
          "text": [
            "0.4 0.6 0\n",
            "0 0.8 0.2\n"
          ]
        }
      ]
    },
    {
      "cell_type": "code",
      "source": [
        "# Based on our result, speed is between slow and medium while the weight is between medium and heavy.\n",
        "\n",
        "# Using the inference rules, our distance can be:\n",
        "\n",
        "# slow + medium = low\n",
        "# slow + heavy = medium\n",
        "# medium + medium = medium\n",
        "# medium + heavy = high\n",
        "\n",
        "# Minimum values:\n",
        "\n",
        "low = min (0.4, 0.8)\n",
        "medium_1 = min(0.4, 0.2)\n",
        "medium_2 = min(0.6, 0.8)\n",
        "high = min(0.6, 0.2)\n",
        "\n",
        "# print (low, medium_1, medium_2, high)\n",
        "# Distance to full stop:\n",
        "\n",
        "length_of_each_term = 3 / 4\n",
        "\n",
        "very_low = 1 *  length_of_each_term * 10\n",
        "low = 2 * length_of_each_term * 10\n",
        "medium = 3 * length_of_each_term * 10\n",
        "high = 4 * length_of_each_term * 10\n",
        "very_high = 5 * length_of_each_term * 10\n",
        "\n",
        "# x = 0\n",
        "# f_very_low = min(1, 1 - (x / 0.75))\n",
        "# f_low = min(1, 1 - (x / 0.75))\n",
        "# f_medium = min(1, 1 - abs(x - 0.375) / 0.375)\n",
        "# f_high = min(1, abs(x - 0.75) / 0.375)\n",
        "# f_very_high = min(1, x / 0.75)\n",
        "\n",
        "centre_of_gravity = ((0.3 * 0.4) + (1.1 * 0.4) + (1.1 * 0.6) + (1.8 * 0.6) + (2 * 0.2) + (3.1 * 0.2)) / (0.4 + 0.4 + 0.6 + 0.6 + 0.2 + 0.2)\n",
        "\n",
        "\n",
        "print (centre_of_gravity)\n",
        "# Our answers:"
      ],
      "metadata": {
        "colab": {
          "base_uri": "https://localhost:8080/"
        },
        "id": "33Qjdf8mlZ3m",
        "outputId": "ac152651-5ba5-4b83-df6a-90ca60a17505"
      },
      "id": "33Qjdf8mlZ3m",
      "execution_count": 50,
      "outputs": [
        {
          "output_type": "stream",
          "name": "stdout",
          "text": [
            "1.3833333333333333\n"
          ]
        }
      ]
    },
    {
      "cell_type": "markdown",
      "id": "7a84c8a8",
      "metadata": {
        "id": "7a84c8a8"
      },
      "source": [
        "## Output\n",
        "\n",
        "## Distance to full stop\n",
        "\n",
        "#### Set of terms\n",
        "- very low\n",
        "- low\n",
        "- medium\n",
        "- high\n",
        "- very high\n",
        "\n",
        "The terms are in range [0, 3] ($\\times$10meters)"
      ]
    },
    {
      "cell_type": "markdown",
      "id": "afc47a5e",
      "metadata": {
        "id": "afc47a5e"
      },
      "source": [
        "## Inference rules"
      ]
    },
    {
      "cell_type": "markdown",
      "id": "f1e6da6c",
      "metadata": {
        "id": "f1e6da6c"
      },
      "source": [
        "| Id \t| Speed \t| Car weight \t| Distance \t|\n",
        "|:---:\t|:---:\t|:---:\t|:---:\t|\n",
        "| 1 \t| slow \t| light \t| very low \t|\n",
        "| 2 \t| slow \t| medium \t| low \t|\n",
        "| 3 \t| slow \t| heavy \t| medium \t|\n",
        "| 4 \t| medium \t| light \t| low \t|\n",
        "| 5 \t| medium \t| medium \t| medium \t|\n",
        "| 6 \t| medium \t| heavy \t| high \t|\n",
        "| 7 \t| fast \t| light \t| medium \t|\n",
        "| 8 \t| fast \t| medium \t| high \t|\n",
        "| 9 \t| fast\t| heavy \t| very high \t|"
      ]
    },
    {
      "cell_type": "markdown",
      "id": "e2a32393",
      "metadata": {
        "id": "e2a32393"
      },
      "source": [
        "## Question"
      ]
    },
    {
      "cell_type": "markdown",
      "id": "43fcaba0",
      "metadata": {
        "id": "43fcaba0"
      },
      "source": [
        "Calculate the distance for\n",
        "\n",
        "1) Speed = 30\n",
        "\n",
        "2) Car weight = 60"
      ]
    },
    {
      "cell_type": "markdown",
      "id": "0c39464d",
      "metadata": {
        "id": "0c39464d"
      },
      "source": [
        "# Task 2 (Research)"
      ]
    },
    {
      "cell_type": "markdown",
      "id": "30706b53",
      "metadata": {
        "id": "30706b53"
      },
      "source": [
        "Try out NumPy: [NumPy](https://numpy.org/) [Quickstart](https://numpy.org/devdocs/user/quickstart.html)\n",
        "\n",
        "Try out Pandas: [Pandas](https://pandas.pydata.org/) [Quickstart](https://pandas.pydata.org/docs/getting_started/intro_tutorials/index.html)\n",
        "\n",
        "Try out SKlearn: [Scikit-learn](https://scikit-learn.org/stable/) [Quickstart](https://scikit-learn.org/stable/getting_started.html)"
      ]
    },
    {
      "cell_type": "markdown",
      "id": "a61d8697",
      "metadata": {
        "id": "a61d8697"
      },
      "source": [
        "We will use the packages mentioned above in the next practical sessions. Familiarize yourself with the mentioned packages."
      ]
    },
    {
      "cell_type": "code",
      "execution_count": null,
      "id": "d5c346bc",
      "metadata": {
        "id": "d5c346bc"
      },
      "outputs": [],
      "source": []
    }
  ],
  "metadata": {
    "kernelspec": {
      "display_name": "Python 3 (ipykernel)",
      "language": "python",
      "name": "python3"
    },
    "language_info": {
      "codemirror_mode": {
        "name": "ipython",
        "version": 3
      },
      "file_extension": ".py",
      "mimetype": "text/x-python",
      "name": "python",
      "nbconvert_exporter": "python",
      "pygments_lexer": "ipython3",
      "version": "3.8.8"
    },
    "colab": {
      "provenance": []
    }
  },
  "nbformat": 4,
  "nbformat_minor": 5
}