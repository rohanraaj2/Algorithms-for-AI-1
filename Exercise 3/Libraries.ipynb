{
 "cells": [
  {
   "cell_type": "markdown",
   "id": "a8bce309",
   "metadata": {
    "id": "a8bce309"
   },
   "source": [
    "# Numpy, Pandas, Scikit-Learn"
   ]
  },
  {
   "cell_type": "markdown",
   "id": "b93fc884",
   "metadata": {
    "id": "b93fc884"
   },
   "source": [
    "## NumPy: [NumPy](https://numpy.org/) [Quickstart](https://numpy.org/devdocs/user/quickstart.html)"
   ]
  },
  {
   "cell_type": "markdown",
   "id": "0f224258",
   "metadata": {
    "id": "0f224258"
   },
   "source": [
    "From the last practicals -> Go through the Quickstart and learn the basic commands of numpy. Why do you think that we should use this for further machine learning tasks?"
   ]
  },
  {
   "cell_type": "markdown",
   "id": "2a1feb63",
   "metadata": {
    "id": "2a1feb63"
   },
   "source": [
    "### Some more NumPy tasks"
   ]
  },
  {
   "cell_type": "code",
   "execution_count": 6,
   "id": "cef36e75",
   "metadata": {
    "id": "cef36e75"
   },
   "outputs": [],
   "source": [
    "import numpy as np"
   ]
  },
  {
   "cell_type": "markdown",
   "id": "bc38b321",
   "metadata": {
    "id": "bc38b321"
   },
   "source": [
    "#### Loops"
   ]
  },
  {
   "cell_type": "code",
   "execution_count": 15,
   "id": "6a575764",
   "metadata": {
    "colab": {
     "base_uri": "https://localhost:8080/"
    },
    "id": "6a575764",
    "outputId": "5910e24c-e018-45cf-b0b7-6dc5346fd8ca"
   },
   "outputs": [
    {
     "name": "stdout",
     "output_type": "stream",
     "text": [
      "Python: 0.1, 0.2, 0.3, 0.4, 0.5, 0.6, 0.7, 0.8, 0.9, 1, \n",
      " \n",
      "Numpy:\n"
     ]
    },
    {
     "data": {
      "text/plain": [
       "array([0.1, 0.2, 0.3, 0.4, 0.5, 0.6, 0.7, 0.8, 0.9, 1. ])"
      ]
     },
     "execution_count": 15,
     "metadata": {},
     "output_type": "execute_result"
    }
   ],
   "source": [
    "# use numpy for loops, e. g. how can you loop floating point numbers in Python e. g. (0.1, 0.2, 0.3, 0.4, ..., 1).\n",
    "# Of course, there are solutions to do that but try it out with numpy arange.\n",
    "\n",
    "\n",
    "# 1) Code the pythonic way for looping floating point numbers: [0.1, 0.2, 0.3, 0.4, ..., 1]\n",
    "array1 = [0.1, 0.2, 0.3, 0.4, 0.5, 0.6, 0.7, 0.8, 0.9, 1]\n",
    "print (\"Python:\", end = \" \")\n",
    "for element in array1:\n",
    "  print (str(element) + ',', end = \" \")\n",
    "\n",
    "# 2) Code the Numpy way:\n",
    "print(\"\\n \\nNumpy:\")\n",
    "array2 = np.array(array1)\n",
    "array2\n",
    "\n",
    "# This applies for more than only this example. But what do you find more readable?"
   ]
  },
  {
   "cell_type": "markdown",
   "id": "fda4a1fc",
   "metadata": {
    "id": "fda4a1fc"
   },
   "source": [
    "#### List operations"
   ]
  },
  {
   "cell_type": "code",
   "execution_count": 17,
   "id": "5d053961",
   "metadata": {
    "colab": {
     "base_uri": "https://localhost:8080/"
    },
    "id": "5d053961",
    "outputId": "deeeef97-f539-49a3-8028-2fe28f10dd0c"
   },
   "outputs": [
    {
     "name": "stdout",
     "output_type": "stream",
     "text": [
      "Python: [[1, 2], [3, 4], [5, 6], [7, 8], [9, 10]]\n",
      "\n",
      "Numpy:\n"
     ]
    },
    {
     "data": {
      "text/plain": [
       "array([[ 1,  2],\n",
       "       [ 3,  4],\n",
       "       [ 5,  6],\n",
       "       [ 7,  8],\n",
       "       [ 9, 10]])"
      ]
     },
     "execution_count": 17,
     "metadata": {},
     "output_type": "execute_result"
    }
   ],
   "source": [
    "# Define the list with name _list in pythonic way and numpy way\n",
    "_list = [[1, 2], [3, 4], [5, 6], [7, 8], [9, 10]]\n",
    "\n",
    "# 1) pythonic way\n",
    "list1 = []\n",
    "for element in _list:\n",
    "  list1.append(element)\n",
    "print (\"Python:\",list1, end = \"\\n\")\n",
    "\n",
    "# 2) Numpy way\n",
    "print(\"\\nNumpy:\")\n",
    "list2 = np.array(_list)\n",
    "list2"
   ]
  },
  {
   "cell_type": "markdown",
   "id": "9cc90d1c",
   "metadata": {
    "id": "9cc90d1c"
   },
   "source": [
    "#### Matrix multiplication"
   ]
  },
  {
   "cell_type": "code",
   "execution_count": 20,
   "id": "26a35056",
   "metadata": {
    "colab": {
     "base_uri": "https://localhost:8080/"
    },
    "id": "26a35056",
    "outputId": "6530e3af-ca03-43e7-d614-de2cb5371da0"
   },
   "outputs": [
    {
     "name": "stdout",
     "output_type": "stream",
     "text": [
      "Numpy transpose [[2.1 4.5]\n",
      " [3.5 6.6]\n",
      " [7.2 7.7]]\n",
      "\n",
      "Python: [[2.1, 4.5], [3.5, 6.6], [7.2, 7.7]]\n",
      "\n",
      "Numpy mat mul:\n",
      " [[34 67]\n",
      " [61 78]]\n",
      "\n",
      "Python: [[34, 67], [61, 78]]\n"
     ]
    }
   ],
   "source": [
    "# Define the pythonic way for the following numpy expressions\n",
    "\n",
    "#### Task 1\n",
    "_list = [[2.1, 3.5, 7.2], [4.5, 6.6, 7.7]]\n",
    "# 1) Numpy way\n",
    "\n",
    "# Numpy transpose\n",
    "_np_list = np.array(_list).T\n",
    "print('Numpy transpose', _np_list)\n",
    "\n",
    "# 2) Pythonic way for numpy transpose\n",
    "# YOUR CODE...\n",
    "\n",
    "list1 = []\n",
    "columns = len(_list[0])\n",
    "for column in range(columns):\n",
    "    list1.append([_list[0][column], _list[1][column]])\n",
    "\n",
    "print (\"\\nPython:\", list1, end = \"\\n\")\n",
    "\n",
    "#### Task 2\n",
    "_list1 = [[2, 3, 7], [4, 6, 7]]\n",
    "_list2 = [[3, 4], [7, 1], [1, 8]]\n",
    "# 1) Numpy mat mul\n",
    "_np_mul = np.matmul(_list1, _list2)\n",
    "print('\\nNumpy mat mul:\\n', _np_mul)\n",
    "\n",
    "# 2) Pythonic way\n",
    "\n",
    "# YOUR CODE...\n",
    "\n",
    "result_matrix = []\n",
    "for row1 in range(len(_list1)):\n",
    "  summed_row = []\n",
    "\n",
    "  for column in range(len(_list2[0])):\n",
    "    sum = 0\n",
    "\n",
    "    for row2 in range(len(_list2)):\n",
    "      sum += _list1[row1][row2] * _list2[row2][column]\n",
    "    summed_row.append(sum)\n",
    "  result_matrix.append(summed_row)\n",
    "\n",
    "print (\"\\nPython:\", result_matrix)"
   ]
  },
  {
   "cell_type": "markdown",
   "id": "2a2b85f7",
   "metadata": {
    "id": "2a2b85f7"
   },
   "source": [
    "## Pandas: [Pandas](https://pandas.pydata.org/) [Quickstart](https://pandas.pydata.org/docs/getting_started/intro_tutorials/index.html)"
   ]
  },
  {
   "cell_type": "code",
   "execution_count": 7,
   "id": "96752b62",
   "metadata": {
    "id": "96752b62"
   },
   "outputs": [],
   "source": [
    "import pandas as pd"
   ]
  },
  {
   "cell_type": "code",
   "execution_count": 39,
   "id": "95dc5411",
   "metadata": {
    "colab": {
     "base_uri": "https://localhost:8080/",
     "height": 373
    },
    "id": "95dc5411",
    "outputId": "a2d42998-369e-4dba-bf75-76ba5f14756b",
    "scrolled": true
   },
   "outputs": [
    {
     "name": "stdout",
     "output_type": "stream",
     "text": [
      "Answer 2: \n",
      "\n",
      "Index(['RowNumber', 'CustomerId', 'Surname', 'CreditScore', 'Geography',\n",
      "       'Gender', 'Age', 'Tenure', 'Balance', 'NumOfProducts', 'HasCrCard',\n",
      "       'IsActiveMember', 'EstimatedSalary', 'Exited'],\n",
      "      dtype='object') \n",
      "\n",
      "Answer 3: \n",
      "\n",
      "      RowNumber    Surname  CreditScore Geography  Gender  Age  Tenure  \\\n",
      "0             1   Hargrave          619    France  Female   42       2   \n",
      "1             2       Hill          608     Spain  Female   41       1   \n",
      "2             3       Onio          502    France  Female   42       8   \n",
      "3             4       Boni          699    France  Female   39       1   \n",
      "4             5   Mitchell          850     Spain  Female   43       2   \n",
      "...         ...        ...          ...       ...     ...  ...     ...   \n",
      "9995       9996   Obijiaku          771    France    Male   39       5   \n",
      "9996       9997  Johnstone          516    France    Male   35      10   \n",
      "9997       9998        Liu          709    France  Female   36       7   \n",
      "9998       9999  Sabbatini          772   Germany    Male   42       3   \n",
      "9999      10000     Walker          792    France  Female   28       4   \n",
      "\n",
      "        Balance  NumOfProducts  HasCrCard  IsActiveMember  EstimatedSalary  \\\n",
      "0          0.00              1          1               1        101348.88   \n",
      "1      83807.86              1          0               1        112542.58   \n",
      "2     159660.80              3          1               0        113931.57   \n",
      "3          0.00              2          0               0         93826.63   \n",
      "4     125510.82              1          1               1         79084.10   \n",
      "...         ...            ...        ...             ...              ...   \n",
      "9995       0.00              2          1               0         96270.64   \n",
      "9996   57369.61              1          1               1        101699.77   \n",
      "9997       0.00              1          0               1         42085.58   \n",
      "9998   75075.31              2          1               0         92888.52   \n",
      "9999  130142.79              1          1               0         38190.78   \n",
      "\n",
      "      Exited  \n",
      "0          1  \n",
      "1          0  \n",
      "2          1  \n",
      "3          0  \n",
      "4          0  \n",
      "...      ...  \n",
      "9995       0  \n",
      "9996       0  \n",
      "9997       1  \n",
      "9998       1  \n",
      "9999       0  \n",
      "\n",
      "[10000 rows x 13 columns] \n",
      "\n",
      "Answer 4: \n",
      "\n",
      "      Gender  Age  Tenure    Balance\n",
      "0     Female   42       2       0.00\n",
      "1     Female   41       1   83807.86\n",
      "2     Female   42       8  159660.80\n",
      "3     Female   39       1       0.00\n",
      "4     Female   43       2  125510.82\n",
      "...      ...  ...     ...        ...\n",
      "9995    Male   39       5       0.00\n",
      "9996    Male   35      10   57369.61\n",
      "9997  Female   36       7       0.00\n",
      "9998    Male   42       3   75075.31\n",
      "9999  Female   28       4  130142.79\n",
      "\n",
      "[10000 rows x 4 columns] \n",
      "\n",
      "Answer 5: \n",
      "\n",
      "      Gender  Age  Tenure    Balance\n",
      "0     Female   42       2       0.00\n",
      "2     Female   42       8  159660.80\n",
      "3     Female   39       1       0.00\n",
      "6       Male   50       7       0.00\n",
      "8       Male   44       4  142051.07\n",
      "...      ...  ...     ...        ...\n",
      "9994  Female   29       2       0.00\n",
      "9995    Male   39       5       0.00\n",
      "9996    Male   35      10   57369.61\n",
      "9997  Female   36       7       0.00\n",
      "9999  Female   28       4  130142.79\n",
      "\n",
      "[5014 rows x 4 columns] \n",
      "\n",
      "Answer 6: \n",
      "\n",
      "Geography  Gender\n",
      "France     Female    0.203450\n",
      "           Male      0.127134\n",
      "Germany    Female    0.375524\n",
      "           Male      0.278116\n",
      "Spain      Female    0.212121\n",
      "           Male      0.131124\n",
      "Name: Exited, dtype: float64 \n",
      "\n"
     ]
    }
   ],
   "source": [
    "# Download the churn dataset from Kaggle: https://www.kaggle.com/datasets/shubh0799/churn-modelling?resource=download\n",
    "# 1) Use the .csv file and read it via pandas\n",
    "df = pd.read_csv(\"./Churn_Modelling.csv\")\n",
    "\n",
    "# 2) Print the columns of the pandas table\n",
    "# print (df)\n",
    "print (\"Answer 2: \\n\")\n",
    "print(df.columns, \"\\n\")\n",
    "\n",
    "# 3) Drop the column customerid\n",
    "print (\"Answer 3: \\n\")\n",
    "del df['CustomerId']\n",
    "print (df, \"\\n\")\n",
    "\n",
    "# 4) Print the values for the columns 'Gender', 'Age', 'Tenure', 'Balance' only\n",
    "\n",
    "print (\"Answer 4: \\n\")\n",
    "print (df[['Gender', 'Age', 'Tenure', 'Balance']], \"\\n\")\n",
    "\n",
    "# 5) Return only the rows where Geography == 'France' and columns 'Gender', 'Age', 'Tenure', 'Balance'\n",
    "\n",
    "print (\"Answer 5: \\n\")\n",
    "print (df[df['Geography'] == 'France'][['Gender', 'Age', 'Tenure', 'Balance']], \"\\n\")\n",
    "\n",
    "# 6) Group by the columns 'Geography', and 'Gender' and use the mean function to aggregate the churn rate ('exited' column)\n",
    "print (\"Answer 6: \\n\")\n",
    "print(df.groupby(['Geography', 'Gender'])['Exited'].mean())\n"
   ]
  },
  {
   "cell_type": "markdown",
   "id": "40eaf39b",
   "metadata": {
    "id": "40eaf39b"
   },
   "source": [
    "## SKlearn: [Scikit-learn](https://scikit-learn.org/stable/) [Quickstart](https://scikit-learn.org/stable/getting_started.html)"
   ]
  },
  {
   "cell_type": "code",
   "execution_count": 8,
   "id": "0c865139",
   "metadata": {
    "id": "0c865139"
   },
   "outputs": [],
   "source": [
    "# We start the k nearest neighbor algorithm with sklearn\n",
    "from sklearn.neighbors import KNeighborsClassifier"
   ]
  },
  {
   "cell_type": "code",
   "execution_count": 9,
   "id": "f120bc8b",
   "metadata": {
    "id": "f120bc8b"
   },
   "outputs": [],
   "source": [
    "# Use the following values and labels to calcualte the kNN\n",
    "X = np.arange(0, 9).reshape(9,1)\n",
    "y = [0, 0, 0, 1, 1, 1, 2, 2, 2]\n",
    "# we know that we have three clusters [0 to 2] has label 0; [3 to 5] has label 1; [6 to 8] has label 2"
   ]
  },
  {
   "cell_type": "code",
   "execution_count": 10,
   "id": "41b09567",
   "metadata": {
    "id": "41b09567"
   },
   "outputs": [
    {
     "data": {
      "text/html": [
       "<style>#sk-container-id-1 {color: black;background-color: white;}#sk-container-id-1 pre{padding: 0;}#sk-container-id-1 div.sk-toggleable {background-color: white;}#sk-container-id-1 label.sk-toggleable__label {cursor: pointer;display: block;width: 100%;margin-bottom: 0;padding: 0.3em;box-sizing: border-box;text-align: center;}#sk-container-id-1 label.sk-toggleable__label-arrow:before {content: \"▸\";float: left;margin-right: 0.25em;color: #696969;}#sk-container-id-1 label.sk-toggleable__label-arrow:hover:before {color: black;}#sk-container-id-1 div.sk-estimator:hover label.sk-toggleable__label-arrow:before {color: black;}#sk-container-id-1 div.sk-toggleable__content {max-height: 0;max-width: 0;overflow: hidden;text-align: left;background-color: #f0f8ff;}#sk-container-id-1 div.sk-toggleable__content pre {margin: 0.2em;color: black;border-radius: 0.25em;background-color: #f0f8ff;}#sk-container-id-1 input.sk-toggleable__control:checked~div.sk-toggleable__content {max-height: 200px;max-width: 100%;overflow: auto;}#sk-container-id-1 input.sk-toggleable__control:checked~label.sk-toggleable__label-arrow:before {content: \"▾\";}#sk-container-id-1 div.sk-estimator input.sk-toggleable__control:checked~label.sk-toggleable__label {background-color: #d4ebff;}#sk-container-id-1 div.sk-label input.sk-toggleable__control:checked~label.sk-toggleable__label {background-color: #d4ebff;}#sk-container-id-1 input.sk-hidden--visually {border: 0;clip: rect(1px 1px 1px 1px);clip: rect(1px, 1px, 1px, 1px);height: 1px;margin: -1px;overflow: hidden;padding: 0;position: absolute;width: 1px;}#sk-container-id-1 div.sk-estimator {font-family: monospace;background-color: #f0f8ff;border: 1px dotted black;border-radius: 0.25em;box-sizing: border-box;margin-bottom: 0.5em;}#sk-container-id-1 div.sk-estimator:hover {background-color: #d4ebff;}#sk-container-id-1 div.sk-parallel-item::after {content: \"\";width: 100%;border-bottom: 1px solid gray;flex-grow: 1;}#sk-container-id-1 div.sk-label:hover label.sk-toggleable__label {background-color: #d4ebff;}#sk-container-id-1 div.sk-serial::before {content: \"\";position: absolute;border-left: 1px solid gray;box-sizing: border-box;top: 0;bottom: 0;left: 50%;z-index: 0;}#sk-container-id-1 div.sk-serial {display: flex;flex-direction: column;align-items: center;background-color: white;padding-right: 0.2em;padding-left: 0.2em;position: relative;}#sk-container-id-1 div.sk-item {position: relative;z-index: 1;}#sk-container-id-1 div.sk-parallel {display: flex;align-items: stretch;justify-content: center;background-color: white;position: relative;}#sk-container-id-1 div.sk-item::before, #sk-container-id-1 div.sk-parallel-item::before {content: \"\";position: absolute;border-left: 1px solid gray;box-sizing: border-box;top: 0;bottom: 0;left: 50%;z-index: -1;}#sk-container-id-1 div.sk-parallel-item {display: flex;flex-direction: column;z-index: 1;position: relative;background-color: white;}#sk-container-id-1 div.sk-parallel-item:first-child::after {align-self: flex-end;width: 50%;}#sk-container-id-1 div.sk-parallel-item:last-child::after {align-self: flex-start;width: 50%;}#sk-container-id-1 div.sk-parallel-item:only-child::after {width: 0;}#sk-container-id-1 div.sk-dashed-wrapped {border: 1px dashed gray;margin: 0 0.4em 0.5em 0.4em;box-sizing: border-box;padding-bottom: 0.4em;background-color: white;}#sk-container-id-1 div.sk-label label {font-family: monospace;font-weight: bold;display: inline-block;line-height: 1.2em;}#sk-container-id-1 div.sk-label-container {text-align: center;}#sk-container-id-1 div.sk-container {/* jupyter's `normalize.less` sets `[hidden] { display: none; }` but bootstrap.min.css set `[hidden] { display: none !important; }` so we also need the `!important` here to be able to override the default hidden behavior on the sphinx rendered scikit-learn.org. See: https://github.com/scikit-learn/scikit-learn/issues/21755 */display: inline-block !important;position: relative;}#sk-container-id-1 div.sk-text-repr-fallback {display: none;}</style><div id=\"sk-container-id-1\" class=\"sk-top-container\"><div class=\"sk-text-repr-fallback\"><pre>KNeighborsClassifier(n_neighbors=3)</pre><b>In a Jupyter environment, please rerun this cell to show the HTML representation or trust the notebook. <br />On GitHub, the HTML representation is unable to render, please try loading this page with nbviewer.org.</b></div><div class=\"sk-container\" hidden><div class=\"sk-item\"><div class=\"sk-estimator sk-toggleable\"><input class=\"sk-toggleable__control sk-hidden--visually\" id=\"sk-estimator-id-1\" type=\"checkbox\" checked><label for=\"sk-estimator-id-1\" class=\"sk-toggleable__label sk-toggleable__label-arrow\">KNeighborsClassifier</label><div class=\"sk-toggleable__content\"><pre>KNeighborsClassifier(n_neighbors=3)</pre></div></div></div></div></div>"
      ],
      "text/plain": [
       "KNeighborsClassifier(n_neighbors=3)"
      ]
     },
     "execution_count": 10,
     "metadata": {},
     "output_type": "execute_result"
    }
   ],
   "source": [
    "# Start the KNN algorithm with the values above\n",
    "# YOUR CODE ...\n",
    "clf = KNeighborsClassifier(n_neighbors=3)\n",
    "clf.fit(X, y)"
   ]
  },
  {
   "cell_type": "code",
   "execution_count": null,
   "id": "c3c95e65",
   "metadata": {
    "id": "c3c95e65"
   },
   "outputs": [],
   "source": [
    "# predict the label for value 4\n",
    "# YOUR CODE ...\n",
    "print(clf.predict([[4]]))"
   ]
  },
  {
   "cell_type": "code",
   "execution_count": null,
   "id": "7c7b0860",
   "metadata": {
    "id": "7c7b0860"
   },
   "outputs": [],
   "source": []
  }
 ],
 "metadata": {
  "colab": {
   "provenance": []
  },
  "kernelspec": {
   "display_name": "Python 3 (ipykernel)",
   "language": "python",
   "name": "python3"
  },
  "language_info": {
   "codemirror_mode": {
    "name": "ipython",
    "version": 3
   },
   "file_extension": ".py",
   "mimetype": "text/x-python",
   "name": "python",
   "nbconvert_exporter": "python",
   "pygments_lexer": "ipython3",
   "version": "3.11.7"
  }
 },
 "nbformat": 4,
 "nbformat_minor": 5
}
