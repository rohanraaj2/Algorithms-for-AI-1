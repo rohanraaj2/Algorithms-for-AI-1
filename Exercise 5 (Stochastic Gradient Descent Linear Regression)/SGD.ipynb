{
 "cells": [
  {
   "cell_type": "markdown",
   "id": "c6fb176d",
   "metadata": {},
   "source": [
    "# Stochastic Gradient Descent - Linear Regression"
   ]
  },
  {
   "cell_type": "raw",
   "id": "18d9da9a",
   "metadata": {},
   "source": [
    "Implement the Stochastic Gradient Descent (SGD) and update the weights of a linear regression model"
   ]
  },
  {
   "cell_type": "markdown",
   "id": "10609e29",
   "metadata": {},
   "source": [
    "## Data for the linear regression model"
   ]
  },
  {
   "cell_type": "raw",
   "id": "d1404413",
   "metadata": {},
   "source": [
    "Use the following data for the training and evaluation of your model"
   ]
  },
  {
   "cell_type": "code",
   "execution_count": 5,
   "id": "2731c87b",
   "metadata": {},
   "outputs": [],
   "source": [
    "import numpy as np"
   ]
  },
  {
   "cell_type": "code",
   "execution_count": 24,
   "id": "55d4b730",
   "metadata": {},
   "outputs": [
    {
     "name": "stdout",
     "output_type": "stream",
     "text": [
      "[0.28775241 0.42190513 0.29034247]\n"
     ]
    }
   ],
   "source": [
    "# Data points\n",
    "data_amount = 15\n",
    "max_num = 10\n",
    "X = np.random.randint(max_num, size=(data_amount, 3))\n",
    "\n",
    "# We generate them by \"knowing\" the output weights for this example (this is not the case for real data!)\n",
    "final_weights = np.random.rand(X.shape[1])\n",
    "final_weights = final_weights / np.sum(final_weights)\n",
    "\n",
    "print (final_weights)\n",
    "\n",
    "final_bias = 0.2\n",
    "\n",
    "# Corresponding labels\n",
    "random_noise = np.random.rand(X.shape[0]) / 7.5 # ranges from 0-1. We divide that by 7.5 to not get to much noise in here\n",
    "y = np.dot(final_weights, X.T) + final_bias + random_noise\n",
    "\n",
    "# print('data set X\\n', X)\n",
    "# print('labels y\\n', y)"
   ]
  },
  {
   "cell_type": "markdown",
   "id": "daec3881",
   "metadata": {},
   "source": [
    "# Training and test data"
   ]
  },
  {
   "cell_type": "code",
   "execution_count": 28,
   "id": "a3b736c2",
   "metadata": {},
   "outputs": [],
   "source": [
    "train_len = int(data_amount * 0.75)\n",
    "\n",
    "# We train with the following data\n",
    "X_train = X[:train_len]\n",
    "y_train = y[:train_len]\n",
    "\n",
    "# We test / evaluate with the following data\n",
    "X_test = X[train_len:]\n",
    "y_test = y[train_len:]"
   ]
  },
  {
   "cell_type": "markdown",
   "id": "331bd43e",
   "metadata": {},
   "source": [
    "## Information about the model"
   ]
  },
  {
   "cell_type": "code",
   "execution_count": 20,
   "id": "29c436eb",
   "metadata": {},
   "outputs": [
    {
     "name": "stdout",
     "output_type": "stream",
     "text": [
      "[1]\n"
     ]
    }
   ],
   "source": [
    "# We set the inital weights randomly\n",
    "weights = np.random.rand(X.shape[1])\n",
    "\n",
    "# The bias value is set to 1 initially\n",
    "bias = np.array([1])"
   ]
  },
  {
   "cell_type": "markdown",
   "id": "71627d25",
   "metadata": {},
   "source": [
    "### Some more information"
   ]
  },
  {
   "cell_type": "markdown",
   "id": "9e60e4ed",
   "metadata": {},
   "source": [
    "We know the regression equation:\n",
    "\n",
    "$y_{pred}= w_1x_1 + w_2x_2 + \\ldots + w_nx_n + b$"
   ]
  },
  {
   "cell_type": "code",
   "execution_count": 10,
   "id": "7f6c5abb",
   "metadata": {},
   "outputs": [
    {
     "name": "stdout",
     "output_type": "stream",
     "text": [
      "Outputs for our untrained model: [9.33558385 9.51887893 7.25460812 6.93375236]\n",
      "Outputs for the final model: [5.1272694  6.84051433 7.11154746 4.6422118 ]\n"
     ]
    }
   ],
   "source": [
    "# What are the current results of the untrained model?\n",
    "y_untrained = np.dot(weights, X_test.T) + bias\n",
    "print('Outputs for our untrained model:', y_untrained)\n",
    "\n",
    "# What are the results of the final model (that we want to achieve by updating the weights by the Stochastic gradient descent method)\n",
    "y_final = np.dot(final_weights, X_test.T) + final_bias\n",
    "print('Outputs for the final model:', y_final)"
   ]
  },
  {
   "cell_type": "markdown",
   "id": "39c3c815",
   "metadata": {},
   "source": [
    "### Loss function"
   ]
  },
  {
   "cell_type": "markdown",
   "id": "6e5958c9",
   "metadata": {},
   "source": [
    "We want to use the mean squarred error to calculate the loss for the model outputs which is defined as follows:\n",
    "\n",
    "$$MSE = \\frac{1}{n}\\sum_{i=1}^n (y_i-y_{i_{pred}})^2$$"
   ]
  },
  {
   "cell_type": "code",
   "execution_count": 11,
   "id": "d362b4e4",
   "metadata": {},
   "outputs": [],
   "source": [
    "mse = lambda y, y_pred: np.mean(np.sum((y-y_pred)**2))"
   ]
  },
  {
   "cell_type": "code",
   "execution_count": 12,
   "id": "c81268ef",
   "metadata": {},
   "outputs": [
    {
     "name": "stdout",
     "output_type": "stream",
     "text": [
      "The loss of the untrained model is: 29.10222559645061\n",
      "The loss of the final model is: 0.01919505721180261\n"
     ]
    }
   ],
   "source": [
    "# In our example the loss for our untrained model is:\n",
    "loss_untrained = mse(y_test, y_untrained)\n",
    "print('The loss of the untrained model is:', loss_untrained)\n",
    "\n",
    "# Loss for the final model\n",
    "loss_final = mse(y_test, y_final)\n",
    "print('The loss of the final model is:', loss_final)"
   ]
  },
  {
   "cell_type": "markdown",
   "id": "a2854ef6",
   "metadata": {},
   "source": [
    "## Your stochastic gradient descent implementation to optimize the weights of your model"
   ]
  },
  {
   "cell_type": "code",
   "execution_count": null,
   "id": "decf2db5",
   "metadata": {},
   "outputs": [],
   "source": [
    "# Summary on what we know so far:\n",
    "\n",
    "# We know the loss function: Variable 'mse' (Mean squared error)\n",
    "# We know the initial weights that we want to optimize: variable 'weights'\n",
    "# We know the initial bias value: variable 'bias'"
   ]
  },
  {
   "cell_type": "code",
   "execution_count": 40,
   "id": "c87ab9df",
   "metadata": {},
   "outputs": [
    {
     "name": "stdout",
     "output_type": "stream",
     "text": [
      "final: w_1=0.39277362991338244, w_2=0.37345856409997974, w_3=0.23882845718936865, b=0.276592183895827, loss=0.0016721257521136118\n"
     ]
    }
   ],
   "source": [
    "# Use the training data to optimize the weights of the linear regression model\n",
    "\n",
    "# use these variables for your sgd implementation\n",
    "learning_rate = 0.005\n",
    "iterations = 1000\n",
    "\n",
    "# YOUR CODE FOR THE STOCHASTIC GRADIENT DESCENT IMPLEMENTATION\n",
    "\n",
    "w_1 = weights[0]\n",
    "w_2 = weights[1]\n",
    "w_3 = weights[2]\n",
    "b = bias[0]\n",
    "\n",
    "for iteration in range(iterations):\n",
    "    sum_of_squared_errors = 0\n",
    "\n",
    "    for row in range (len(X)):\n",
    "        x_1 = X[row][0]\n",
    "        x_2 = X[row][1]\n",
    "        x_3 = X[row][2]\n",
    "        y_i = y[row]\n",
    "        y_i_hat = w_1 * (x_1) + w_2 * (x_2) + w_3 * (x_3) + b\n",
    "\n",
    "        squared_loss = (y_i_hat - y_i) ** 2\n",
    "\n",
    "        sum_of_squared_errors += squared_loss\n",
    "\n",
    "        m_L_wrt_yhat = 2 * (y_i_hat - y_i)\n",
    "\n",
    "        m_yhat_wrt_w1 = x_1\n",
    "        m_yhat_wrt_w2 = x_2\n",
    "        m_yhat_wrt_w3 = x_3\n",
    "        m_yhat_wrt_b = 1\n",
    "\n",
    "        m_L_wrt_w1 = m_L_wrt_yhat * m_yhat_wrt_w1\n",
    "        m_L_wrt_w2 = m_L_wrt_yhat * m_yhat_wrt_w2\n",
    "        m_L_wrt_w3 = m_L_wrt_yhat * m_yhat_wrt_w3\n",
    "        m_L_wrt_b = m_L_wrt_yhat * m_yhat_wrt_b\n",
    "\n",
    "        w_1 = w_1 - learning_rate * m_L_wrt_w1\n",
    "        w_2 = w_2 - learning_rate * m_L_wrt_w2\n",
    "        w_3 = w_3 - learning_rate * m_L_wrt_w3\n",
    "        b = b - learning_rate * m_L_wrt_b\n",
    "\n",
    "print(f'final: w_1={w_1}, w_2={w_2}, w_3={w_3}, b={b}, loss={squared_loss}')\n",
    "    \n",
    "mean_sum_of_squared_errors = sum_of_squared_errors / (len(X))"
   ]
  },
  {
   "cell_type": "markdown",
   "id": "eda1a991",
   "metadata": {},
   "source": [
    "## Compare the results with the Test data"
   ]
  },
  {
   "cell_type": "code",
   "execution_count": 23,
   "id": "607bfcec",
   "metadata": {},
   "outputs": [
    {
     "name": "stdout",
     "output_type": "stream",
     "text": [
      "Test Loss: 0.006285252550242331\n",
      "Training Loss: 0.0034051217229112358\n"
     ]
    }
   ],
   "source": [
    "# Assuming you have your test data in variables X_test and y_test\n",
    "sum_of_squared_errors_test = 0\n",
    "\n",
    "for row in range(len(X_test)):\n",
    "    x_1_test = X_test[row][0]\n",
    "    x_2_test = X_test[row][1]\n",
    "    x_3_test = X_test[row][2]\n",
    "    y_i_test = y_test[row]\n",
    "    y_i_hat_test = w_1 * x_1_test + w_2 * x_2_test + w_3 * x_3_test + b\n",
    "\n",
    "    squared_loss_test = (y_i_hat_test - y_i_test) ** 2\n",
    "\n",
    "    sum_of_squared_errors_test += squared_loss_test\n",
    "\n",
    "mean_sum_of_squared_errors_test = sum_of_squared_errors_test / len(X_test)\n",
    "\n",
    "print(f'Test Loss: {mean_sum_of_squared_errors_test}')\n",
    "\n",
    "# Compare with training loss\n",
    "print(f'Training Loss: {mean_sum_of_squared_errors}')"
   ]
  }
 ],
 "metadata": {
  "kernelspec": {
   "display_name": "Python 3 (ipykernel)",
   "language": "python",
   "name": "python3"
  },
  "language_info": {
   "codemirror_mode": {
    "name": "ipython",
    "version": 3
   },
   "file_extension": ".py",
   "mimetype": "text/x-python",
   "name": "python",
   "nbconvert_exporter": "python",
   "pygments_lexer": "ipython3",
   "version": "3.11.7"
  }
 },
 "nbformat": 4,
 "nbformat_minor": 5
}
