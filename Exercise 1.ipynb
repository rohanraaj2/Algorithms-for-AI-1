{
  "cells": [
    {
      "cell_type": "markdown",
      "id": "48aa0944",
      "metadata": {
        "id": "48aa0944"
      },
      "source": [
        "# Exercise 1 - Logic"
      ]
    },
    {
      "cell_type": "markdown",
      "id": "3a6a7036",
      "metadata": {
        "id": "3a6a7036"
      },
      "source": [
        "Use LaTeX commands to write logic symbols in jupyter notebook: [LaTeX logic symbols](https://en.wikipedia.org/wiki/List_of_logic_symbols)"
      ]
    },
    {
      "cell_type": "markdown",
      "id": "ee1088f4",
      "metadata": {
        "id": "ee1088f4"
      },
      "source": [
        "## Task 1 - Warmup - Truth table"
      ]
    },
    {
      "cell_type": "markdown",
      "id": "4caddceb",
      "metadata": {
        "id": "4caddceb"
      },
      "source": [
        "a) Build the truth table for the following sentences. Assume that we have two arbitrary atomic sentences $\\alpha$, $\\beta$ and $\\gamma$. Fill out the missing combinations of the three sentences. How many combinations do we have for $n$ sentences?"
      ]
    },
    {
      "cell_type": "markdown",
      "id": "462e7776",
      "metadata": {
        "id": "462e7776"
      },
      "source": [
        "| $\\alpha$ | $\\beta$ | $\\gamma$ | $$\\alpha \\land (\\beta \\lor \\gamma)$$ | $$(\\alpha \\lor (\\beta \\lor \\gamma))$$ | $$(\\alpha \\lor \\beta)\\land(\\alpha \\lor \\gamma)$$ |\n",
        "|:--------:|:-------:|:--------:|:----------------------------------:|:-----------------------------------:|:----------------------------------------------:|\n",
        "|   false  |  false  |   false  |                         false           |false                                           |false                                                |\n",
        "|   false  |  false  |   true   |false                                    |true                                            |false                                                |\n",
        "|   false  |   true  |   false  |        false                            |true                                     |false                                                |\n",
        "|   true   |  false  |   false  |          false                          |true                                     |true                                                |\n",
        "|   false  |   true  |   true   |         false                           |true                                     |true                                                |\n",
        "|   true   |  false  |   true   |               true                                           |true                                     |true                                                |"
      ]
    },
    {
      "cell_type": "markdown",
      "id": "6aefd2ee",
      "metadata": {
        "id": "6aefd2ee"
      },
      "source": [
        "b) Find equivalences of the following complex sentences:\n",
        "1) $(\\alpha \\land (\\beta \\lor \\gamma)) \\equiv (\\alpha \\land \\beta) \\lor (\\alpha \\land \\gamma)$\n",
        "\n",
        "2) $(\\alpha \\lor (\\beta \\lor \\gamma)) \\equiv ((\\alpha \\lor \\beta) \\lor \\gamma)$\n",
        "\n",
        "3) $(\\alpha \\lor \\beta)\\land(\\alpha \\lor \\gamma) \\equiv \\alpha \\lor (\\beta \\land \\gamma)$"
      ]
    },
    {
      "cell_type": "markdown",
      "id": "6aa6987e",
      "metadata": {
        "id": "6aa6987e"
      },
      "source": [
        "## Task 2 - Propositional Theorem Proving"
      ]
    },
    {
      "cell_type": "markdown",
      "id": "0ce0f8da",
      "metadata": {
        "id": "0ce0f8da"
      },
      "source": [
        "We know already that a two arbitrary sentences $\\alpha$ and $\\beta$ are equivalent if and only if each of them entails the other:\n",
        "\n",
        "$\\alpha \\equiv \\beta$ if and only if $\\alpha \\models \\beta$ and $\\beta \\models \\alpha$"
      ]
    },
    {
      "cell_type": "markdown",
      "id": "2f571861",
      "metadata": {
        "id": "2f571861"
      },
      "source": [
        "a) Give an example of a tautology.\n",
        "\n",
        "Answer: A $\\lor \\lnot$ A\n",
        "\n",
        "b) What is the definition of the SAT problem?\n",
        "\n",
        "Answer: It is a problem that asks whether there exists an assignment of truth values to variables in a given Boolean formula such that the formula evaluates to true. In other words, finding a satisfying assignment for a given formula.\n",
        "\n",
        "c) Which of the following are correct?\n",
        "\n",
        "1) $(A\\land B) \\models (A{\\Leftrightarrow}B)$\n",
        "\n",
        "2) $A\\Leftrightarrow B \\models A \\lor B$\n",
        "\n",
        "3) $A\\Leftrightarrow B \\models \\lnot A \\lor B$\n",
        "\n",
        "Answer: 1 and 3"
      ]
    },
    {
      "cell_type": "markdown",
      "id": "6f9d270d",
      "metadata": {
        "id": "6f9d270d"
      },
      "source": [
        "## Task 3 - Coding"
      ]
    },
    {
      "cell_type": "markdown",
      "id": "2e39b0ad",
      "metadata": {
        "id": "2e39b0ad"
      },
      "source": [
        "Write a recursive algorithm IsPLTrue$(sentence, m)$ that returns ${true}$ if and only if the sentence $s$ is true in the model $m$ (where $m$ assigns a truth value for every symbol in $s$).\n",
        "\n",
        "Use pseudo code only as we dont have enough definitions to write python code!"
      ]
    },
    {
      "cell_type": "code",
      "execution_count": null,
      "id": "1b24efca",
      "metadata": {
        "id": "1b24efca"
      },
      "outputs": [],
      "source": [
        "FUNCTION IsPLTrue(sentence, m):\n",
        "    IF IsAtomicProposition(sentence) THEN\n",
        "        RETURN GetTruthValue(sentence, m)\n",
        "    ELSE IF IsNegation(sentence) THEN\n",
        "        RETURN NOT IsPLTrue(GetNegatedSentence(sentence), m)\n",
        "    ELSE IF IsConjunction(sentence) THEN\n",
        "        RETURN IsPLTrue(GetConjunct1(sentence), m) AND IsPLTrue(GetConjunct2(sentence), m)\n",
        "    ELSE IF IsDisjunction(sentence) THEN\n",
        "        RETURN IsPLTrue(GetDisjunct1(sentence), m) OR IsPLTrue(GetDisjunct2(sentence), m)"
      ]
    }
  ],
  "metadata": {
    "kernelspec": {
      "display_name": "Python 3 (ipykernel)",
      "language": "python",
      "name": "python3"
    },
    "language_info": {
      "codemirror_mode": {
        "name": "ipython",
        "version": 3
      },
      "file_extension": ".py",
      "mimetype": "text/x-python",
      "name": "python",
      "nbconvert_exporter": "python",
      "pygments_lexer": "ipython3",
      "version": "3.8.8"
    },
    "colab": {
      "provenance": []
    }
  },
  "nbformat": 4,
  "nbformat_minor": 5
}